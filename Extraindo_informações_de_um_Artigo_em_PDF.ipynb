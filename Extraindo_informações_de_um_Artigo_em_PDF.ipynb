{
  "nbformat": 4,
  "nbformat_minor": 0,
  "metadata": {
    "colab": {
      "name": "Extraindo informações de um Artigo em PDF",
      "provenance": [],
      "collapsed_sections": [],
      "authorship_tag": "ABX9TyP/zdMKu0uzVl6vKiZCn6aY",
      "include_colab_link": true
    },
    "kernelspec": {
      "name": "python3",
      "display_name": "Python 3"
    },
    "language_info": {
      "name": "python"
    }
  },
  "cells": [
    {
      "cell_type": "markdown",
      "metadata": {
        "id": "view-in-github",
        "colab_type": "text"
      },
      "source": [
        "<a href=\"https://colab.research.google.com/github/almirgouvea/Data_Science/blob/main/Extraindo_informa%C3%A7%C3%B5es_de_um_Artigo_em_PDF.ipynb\" target=\"_parent\"><img src=\"https://colab.research.google.com/assets/colab-badge.svg\" alt=\"Open In Colab\"/></a>"
      ]
    },
    {
      "cell_type": "markdown",
      "metadata": {
        "id": "ImugqIE8df05"
      },
      "source": [
        "<center> \n",
        "\n",
        "## Biblioteca PDF Plumber\n",
        "\n",
        " </center>\n",
        "\n",
        "Em diversas situações do trabalho ou meio acadêmico precisamos manipular arquivos em pdf para poder extrair as informações contidas para fazer as análises.\n",
        "\n",
        "A biblioteca [PDF Plumber](https://github.com/jsvine/pdfplumber) auxilia nesse processo, pois permite extrair textos de arquivos em pdf, como vamos ver a seguir.\n",
        "\n",
        "--------------------------------------------------------------------------------"
      ]
    },
    {
      "cell_type": "markdown",
      "metadata": {
        "id": "REbOP7ajNfvA"
      },
      "source": [
        "Os [artigos](https://philos.sophia.com.br/terminal/8530/acervo/detalhe/4842?guid=1622397763290&returnUrl=%2fterminal%2f8530%2fresultado%2flistar%3fguid%3d1622397763290%26quantidadePaginas%3d1%26codigoRegistro%3d4842%234842&i=8) que serão utilizados nesse jupyter notebook foram apresentados no congresso [COBRAMSEG](http://cobramseg2020.com.br/) em 2016."
      ]
    },
    {
      "cell_type": "markdown",
      "metadata": {
        "id": "y4BaMSklgwUr"
      },
      "source": [
        "Essa biblioteca não está instalada no Google Colab, por conta disso vamos precisar instalar primeiro.\n",
        "\n",
        "Para isso vamos utilizar o gerenciador de pacotes `pip` e o comando `install` seguido do nome da biblioteca."
      ]
    },
    {
      "cell_type": "code",
      "metadata": {
        "id": "3UsvMRyOb8ES",
        "colab": {
          "base_uri": "https://localhost:8080/"
        },
        "outputId": "45b234b1-0b15-4fe4-b860-3ee728c62cff"
      },
      "source": [
        "# instalação da biblioteca\n",
        "!pip install pdfplumber"
      ],
      "execution_count": 1,
      "outputs": [
        {
          "output_type": "stream",
          "text": [
            "Collecting pdfplumber\n",
            "\u001b[?25l  Downloading https://files.pythonhosted.org/packages/9d/30/528bba4a8a2dde7b7e89475a1f1d7b3ed342073a76b4e7248cdd8393f058/pdfplumber-0.5.28.tar.gz (45kB)\n",
            "\u001b[K     |████████████████████████████████| 51kB 3.0MB/s \n",
            "\u001b[?25hCollecting pdfminer.six==20200517\n",
            "\u001b[?25l  Downloading https://files.pythonhosted.org/packages/b0/c0/ef1c8758bbd86edb10b5443700aac97d0ba27a9ca2e7696db8cd1fdbd5a8/pdfminer.six-20200517-py3-none-any.whl (5.6MB)\n",
            "\u001b[K     |████████████████████████████████| 5.6MB 5.3MB/s \n",
            "\u001b[?25hRequirement already satisfied: Pillow>=7.0.0 in /usr/local/lib/python3.7/dist-packages (from pdfplumber) (7.1.2)\n",
            "Collecting Wand\n",
            "\u001b[?25l  Downloading https://files.pythonhosted.org/packages/d7/f6/05f043c099639b9017b7244791048a4d146dfea45b41a199aed373246d50/Wand-0.6.6-py2.py3-none-any.whl (138kB)\n",
            "\u001b[K     |████████████████████████████████| 143kB 46.5MB/s \n",
            "\u001b[?25hCollecting pycryptodome\n",
            "\u001b[?25l  Downloading https://files.pythonhosted.org/packages/ad/16/9627ab0493894a11c68e46000dbcc82f578c8ff06bc2980dcd016aea9bd3/pycryptodome-3.10.1-cp35-abi3-manylinux2010_x86_64.whl (1.9MB)\n",
            "\u001b[K     |████████████████████████████████| 1.9MB 41.2MB/s \n",
            "\u001b[?25hRequirement already satisfied: chardet; python_version > \"3.0\" in /usr/local/lib/python3.7/dist-packages (from pdfminer.six==20200517->pdfplumber) (3.0.4)\n",
            "Requirement already satisfied: sortedcontainers in /usr/local/lib/python3.7/dist-packages (from pdfminer.six==20200517->pdfplumber) (2.4.0)\n",
            "Building wheels for collected packages: pdfplumber\n",
            "  Building wheel for pdfplumber (setup.py) ... \u001b[?25l\u001b[?25hdone\n",
            "  Created wheel for pdfplumber: filename=pdfplumber-0.5.28-cp37-none-any.whl size=32222 sha256=2b77df784f869009f6ebf2cb831f934a0aaeea3f0400866ea507f56e9f878c98\n",
            "  Stored in directory: /root/.cache/pip/wheels/5a/9b/3d/37e37d93650be964fdd2a9babf174214fec8a0f4d222d474ab\n",
            "Successfully built pdfplumber\n",
            "Installing collected packages: pycryptodome, pdfminer.six, Wand, pdfplumber\n",
            "Successfully installed Wand-0.6.6 pdfminer.six-20200517 pdfplumber-0.5.28 pycryptodome-3.10.1\n"
          ],
          "name": "stdout"
        }
      ]
    },
    {
      "cell_type": "markdown",
      "metadata": {
        "id": "W317GluOhCFA"
      },
      "source": [
        "Além dessa biblioteca vamos precisar importar outras: [os](https://docs.python.org/pt-br/3/library/os.html) e `drive` (nativa do google colab).\n",
        "\n",
        "A biblioteca `os` é utilizada para acessar as funcionalidades que dependem do sistema operacional, como abrir/ler arquivos e mudar de diretório.\n",
        "\n",
        "A biblioteca `drive` permite integrar o google drive com o google colab."
      ]
    },
    {
      "cell_type": "code",
      "metadata": {
        "id": "y2063g3lmyAL"
      },
      "source": [
        "# importando as biblioteca \"pdfplumber\", \"os\" e \"drive\"\n",
        "import pdfplumber\n",
        "import os\n",
        "from google.colab import drive"
      ],
      "execution_count": 2,
      "outputs": []
    },
    {
      "cell_type": "markdown",
      "metadata": {
        "id": "I4CyNci0nFYS"
      },
      "source": [
        "Os artigos estão armazenados no google drive dentro da pasta Artigos.\n",
        "\n",
        "Ao montar o drive estamos na pasta principal do drive.\n",
        "\n",
        "Para acessar o artigo devemos montar o drive e encontrar o local do arquivo."
      ]
    },
    {
      "cell_type": "code",
      "metadata": {
        "id": "h4_3n_Nxns8a",
        "colab": {
          "base_uri": "https://localhost:8080/"
        },
        "outputId": "d421b12f-5261-4d2e-93b9-c969f98b20eb"
      },
      "source": [
        "# montando o drive\n",
        "drive.mount('/content/gdrive')"
      ],
      "execution_count": 3,
      "outputs": [
        {
          "output_type": "stream",
          "text": [
            "Mounted at /content/gdrive\n"
          ],
          "name": "stdout"
        }
      ]
    },
    {
      "cell_type": "markdown",
      "metadata": {
        "id": "5Y5g7OB0o5YW"
      },
      "source": [
        "Após encontrar o local do arquivo devemos mudar o local que será acessado para direcionar para a pasta com os artigos.\n",
        "\n",
        "Para isso usamos o comando `chdir` da biblioteca `os`."
      ]
    },
    {
      "cell_type": "code",
      "metadata": {
        "id": "DsHjbc-JqZ31"
      },
      "source": [
        "# mudando o diretório do drive\n",
        "os.chdir('/content/gdrive/MyDrive/Artigos')"
      ],
      "execution_count": 4,
      "outputs": []
    },
    {
      "cell_type": "markdown",
      "metadata": {
        "id": "b7xTgerWrxA3"
      },
      "source": [
        "Vamos verificar os arquivos presentes dentro da pasta usando a função `listdirc`.\n",
        "\n",
        "Podemos notar que os artigos estão dentro da pasta."
      ]
    },
    {
      "cell_type": "code",
      "metadata": {
        "id": "xwcNqZ37ruaZ",
        "colab": {
          "base_uri": "https://localhost:8080/"
        },
        "outputId": "2ca37b5d-8728-4334-d580-ac071d331f5a"
      },
      "source": [
        "# verificando os arquivos presentes dentro da pasta\n",
        "arquivo = os.listdir()\n",
        "print(arquivo)"
      ],
      "execution_count": 5,
      "outputs": [
        {
          "output_type": "stream",
          "text": [
            "['SBMR-06-0047.PDF', 'SBMR-06-0043.PDF', 'SBMR-06-0045.PDF', 'SBMR-06-0048.pdf']\n"
          ],
          "name": "stdout"
        }
      ]
    },
    {
      "cell_type": "markdown",
      "metadata": {
        "id": "58_GTx6c5Ydr"
      },
      "source": [
        "Utilizando a biblioteca **pdfplumber** podemos obter as informações do artigo.\n",
        "\n",
        "Primeiro vou mostrar o passo a passo utilizando somente um artigo, em seguida, vou automatizar o processo para os 4 artigos."
      ]
    },
    {
      "cell_type": "markdown",
      "metadata": {
        "id": "lTYrqwSoftX-"
      },
      "source": [
        "### pdfplumber.open()\n",
        "\n",
        "Para abrir um arquivo, vamos associá-lo a uma variável, para que ele possa ser facilmente acessado depois.\n",
        "\n",
        "Utilizamos o comando `pdfplumber.open('caminho/do/meu/arquivo')` com o caminho do arquivo dentro dos parênteses, dentro de aspas."
      ]
    },
    {
      "cell_type": "code",
      "metadata": {
        "id": "c2Moa9HVr8oE"
      },
      "source": [
        "# abrindo o artigo\n",
        "artigo = pdfplumber.open(\"/content/gdrive/MyDrive/Artigos/SBMR-06-0048.pdf\")"
      ],
      "execution_count": 6,
      "outputs": []
    },
    {
      "cell_type": "markdown",
      "metadata": {
        "id": "9aKHlZjs6YXq"
      },
      "source": [
        "### pages\n",
        "\n",
        "Para acessar as páginas dentro do artigo usamos a função *pages*.\n",
        "\n",
        "Ela retorna uma lista de páginas do artigo."
      ]
    },
    {
      "cell_type": "code",
      "metadata": {
        "id": "DKqE88Rf6QUZ",
        "colab": {
          "base_uri": "https://localhost:8080/"
        },
        "outputId": "faa38ad2-1baa-4150-94ce-0696680b7f6a"
      },
      "source": [
        "# mostrando a quantidade de páginas\n",
        "artigo.pages"
      ],
      "execution_count": 7,
      "outputs": [
        {
          "output_type": "execute_result",
          "data": {
            "text/plain": [
              "[<Page:1>, <Page:2>, <Page:3>, <Page:4>, <Page:5>, <Page:6>, <Page:7>]"
            ]
          },
          "metadata": {
            "tags": []
          },
          "execution_count": 7
        }
      ]
    },
    {
      "cell_type": "markdown",
      "metadata": {
        "id": "8eXQjo7vAqjs"
      },
      "source": [
        "Nesse artigo vamos obter as informações da primeira página em que está o nome do autor e o resumo.\n",
        "\n",
        "Vamos utilizar a função *pages*, passando como argumento o índice da página que desejamos manipular.\n",
        "\n",
        "Vamos atribuir a variável *pagina* para obter somente a primeira página."
      ]
    },
    {
      "cell_type": "code",
      "metadata": {
        "id": "ulxZGTEu_rIz"
      },
      "source": [
        "# manipulando o arquivo da primeira página\n",
        "pagina = artigo.pages[0]"
      ],
      "execution_count": 8,
      "outputs": []
    },
    {
      "cell_type": "markdown",
      "metadata": {
        "id": "ENK8yygzenr1"
      },
      "source": [
        "### extract_text()\n",
        "\n",
        "\n",
        "Para poder extrair o conteúdo que estamos interessados devemos usar a função *extract_text*.\n",
        "\n",
        "Em seguida vamos imprimir usando o print para verificar as informações.\n",
        "\n",
        "Vamos atribuir a variável *texto* para poder manipular as informações.\n",
        "\n"
      ]
    },
    {
      "cell_type": "code",
      "metadata": {
        "id": "UOztneStS-Tz",
        "colab": {
          "base_uri": "https://localhost:8080/"
        },
        "outputId": "bf70bd06-60a5-431e-b5d8-216df5e120b6"
      },
      "source": [
        "# extraindo o texto da página\n",
        "texto = pagina.extract_text()\n",
        "print(texto)"
      ],
      "execution_count": 9,
      "outputs": [
        {
          "output_type": "stream",
          "text": [
            "Simpósio Brasileiro de Mecânica das Rochas – SBMR 2016 \n",
            "Mecânica das Rochas e Engenharia de Rochas para Inovação e Desenvolvimento \n",
            "Conferência Especializada ISRM 19-22 Outubro, Belo Horizonte, Minas Gerais, Brasil \n",
            "© CBMR/ABMS e ISRM, 2016 \n",
            " \n",
            "Análise  geomecânica  das  rampas  de  acesso  da  mina  Cuiabá  da \n",
            "AngloGold  Ashanti  utilizando  testes  de  hipóteses  e  os  testes \n",
            "estatísticos t e f \n",
            " \n",
            "Almir Donizette Vicente Gouvêa \n",
            "Universidade Federal de Alfenas, Poços de Caldas, Brasil, almir.donizette@gmail.com   \n",
            " \n",
            "Luiz Carlos Rusilo \n",
            "Universidade Federal de Alfenas, Poços de Caldas, Brasil, luiz.rusilo@unifal-mg.edu.br \n",
            " \n",
            "Reuber Ferreira Cota \n",
            "AngloGold Ashanti, Sabará, Brasil, rfcota@anglogoldashanti.com.br \n",
            " \n",
            "RESUMO: A mina Cuiabá da AngloGold Ashanti Córrego do Sítio Mineração Ltda. considerada \n",
            "uma das mais importantes minas subterrâneas de ouro do Brasil, com escavações a mais de 1.200 \n",
            "metros de profundidade utiliza os métodos de lavra de corte e enchimento e o de realce em sub-\n",
            "níveis.  Ao  longo  dos  anos  diversos  problemas  de  instabilidades  como  quebra  mecânica \n",
            "(“breakout”) e capelamento (“buckling”) surgiram nas rampas de acesso dos corpos minerais da \n",
            "mina, sendo que atualmente os corpos de minério lavrados são: “Serrotinho”, “Fonte Grande Sul”, \n",
            "“Balancão” e “Galinheiro”. Para poder analisar a ocorrência desses fenômenos, nesse trabalho \n",
            "foram realizadas análises estatísticas diversas, aplicadas à Mecânica de Rochas, para correlacionar a \n",
            "variabilidade dos parâmetros geológicos, geométricos e de projeto em engenharia, considerando as \n",
            "seguintes características: o azimute do mergulho da foliação principal, o mergulho da foliação \n",
            "principal, a quantidade de foliações por seção, a quantidade de fraturas sistemáticas por seção, a \n",
            "quantidade de fraturas esparsas por seção, os parâmetros da classificação do sistema RMR, os \n",
            "parâmetros da classificação do sistema Q, as dimensões da escavação, a deformação da seção, a \n",
            "ocorrência ou não de “breakout” por seção, a ocorrência ou não de “buckling” por seção e a \n",
            "profundidade. Entre as análises estatísticas realizadas, considerou-se a hipótese de ocorrência de \n",
            "“breakout”,  “buckling”  e  ruptura  (“breakout”  e  ou  “buckling”),  analisou-se  os  intervalos  de \n",
            "confiança, podendo assim definir se a variável segrega a situação (disjunto) ou se não segrega \n",
            "(sobreposto), assim como realizaram-se os testes t e f, podendo assim definir o grau de influência de \n",
            "cada parâmetro em quatro níveis, sendo que quanto mais elevado é o grau maior é a influência que o \n",
            "parâmetro apresenta para a ocorrência do evento. Com isso verificou-se quais são as variáveis de \n",
            "controle  na  ocorrência  de  cada  fenômeno  (“breakout”,  “buckling”  e  ruptura),  definiu-se  quais \n",
            "variáveis que podem ser utilizadas na previsão de outros pontos que podem apresentar problemas \n",
            "geomecânicos, além disso, foi possível perceber que os parâmetros que tem a maior influência na \n",
            "ocorrência  desses  problemas  de  instabilidade,  na  mesma  intensidade,  são  os  níveis  de  tensão \n",
            "estimados, segundo a profundidade, seguido por três parâmetros com o mesmo grau de influência \n",
            "(FF/m, índice RQD e RMR ponderado), tendo como subsequente a quantidade de fraturas esparsas \n",
            "apresentando grau um pouco mais baixo de influência. Além disso pode-se definir variáveis que \n",
            "isoladamente tem elevada correlação com os fenômenos de instabilidade geomecânicos e demonstra \n",
            "que as classificações geomecânicas estão apresentando boa performance.  \n",
            " \n",
            "PALAVRAS-CHAVE: AngloGold Ashanti, Mina Cuiabá, Mecânica de Rocha, Teste de hipóteses, \n",
            "Testes t e f, Grau de influência. \n",
            " \n",
            "SBMR 2016 \n"
          ],
          "name": "stdout"
        }
      ]
    },
    {
      "cell_type": "markdown",
      "metadata": {
        "id": "gz0iyssOewK_"
      },
      "source": [
        "Agora vamos verificar as quebras de linha do artigo.\n",
        "\n",
        "Para isso basta chamar a variável *texto*"
      ]
    },
    {
      "cell_type": "code",
      "metadata": {
        "id": "vaorLHrRexiA",
        "colab": {
          "base_uri": "https://localhost:8080/",
          "height": 426
        },
        "outputId": "eed6058e-9ddd-4084-d219-1688ea500ee3"
      },
      "source": [
        "texto"
      ],
      "execution_count": 10,
      "outputs": [
        {
          "output_type": "execute_result",
          "data": {
            "application/vnd.google.colaboratory.intrinsic+json": {
              "type": "string"
            },
            "text/plain": [
              "'Simpósio Brasileiro de Mecânica das Rochas – SBMR 2016 \\nMecânica das Rochas e Engenharia de Rochas para Inovação e Desenvolvimento \\nConferência Especializada ISRM 19-22 Outubro, Belo Horizonte, Minas Gerais, Brasil \\n© CBMR/ABMS e ISRM, 2016 \\n \\nAnálise  geomecânica  das  rampas  de  acesso  da  mina  Cuiabá  da \\nAngloGold  Ashanti  utilizando  testes  de  hipóteses  e  os  testes \\nestatísticos t e f \\n \\nAlmir Donizette Vicente Gouvêa \\nUniversidade Federal de Alfenas, Poços de Caldas, Brasil, almir.donizette@gmail.com   \\n \\nLuiz Carlos Rusilo \\nUniversidade Federal de Alfenas, Poços de Caldas, Brasil, luiz.rusilo@unifal-mg.edu.br \\n \\nReuber Ferreira Cota \\nAngloGold Ashanti, Sabará, Brasil, rfcota@anglogoldashanti.com.br \\n \\nRESUMO: A mina Cuiabá da AngloGold Ashanti Córrego do Sítio Mineração Ltda. considerada \\numa das mais importantes minas subterrâneas de ouro do Brasil, com escavações a mais de 1.200 \\nmetros de profundidade utiliza os métodos de lavra de corte e enchimento e o de realce em sub-\\nníveis.  Ao  longo  dos  anos  diversos  problemas  de  instabilidades  como  quebra  mecânica \\n(“breakout”) e capelamento (“buckling”) surgiram nas rampas de acesso dos corpos minerais da \\nmina, sendo que atualmente os corpos de minério lavrados são: “Serrotinho”, “Fonte Grande Sul”, \\n“Balancão” e “Galinheiro”. Para poder analisar a ocorrência desses fenômenos, nesse trabalho \\nforam realizadas análises estatísticas diversas, aplicadas à Mecânica de Rochas, para correlacionar a \\nvariabilidade dos parâmetros geológicos, geométricos e de projeto em engenharia, considerando as \\nseguintes características: o azimute do mergulho da foliação principal, o mergulho da foliação \\nprincipal, a quantidade de foliações por seção, a quantidade de fraturas sistemáticas por seção, a \\nquantidade de fraturas esparsas por seção, os parâmetros da classificação do sistema RMR, os \\nparâmetros da classificação do sistema Q, as dimensões da escavação, a deformação da seção, a \\nocorrência ou não de “breakout” por seção, a ocorrência ou não de “buckling” por seção e a \\nprofundidade. Entre as análises estatísticas realizadas, considerou-se a hipótese de ocorrência de \\n“breakout”,  “buckling”  e  ruptura  (“breakout”  e  ou  “buckling”),  analisou-se  os  intervalos  de \\nconfiança, podendo assim definir se a variável segrega a situação (disjunto) ou se não segrega \\n(sobreposto), assim como realizaram-se os testes t e f, podendo assim definir o grau de influência de \\ncada parâmetro em quatro níveis, sendo que quanto mais elevado é o grau maior é a influência que o \\nparâmetro apresenta para a ocorrência do evento. Com isso verificou-se quais são as variáveis de \\ncontrole  na  ocorrência  de  cada  fenômeno  (“breakout”,  “buckling”  e  ruptura),  definiu-se  quais \\nvariáveis que podem ser utilizadas na previsão de outros pontos que podem apresentar problemas \\ngeomecânicos, além disso, foi possível perceber que os parâmetros que tem a maior influência na \\nocorrência  desses  problemas  de  instabilidade,  na  mesma  intensidade,  são  os  níveis  de  tensão \\nestimados, segundo a profundidade, seguido por três parâmetros com o mesmo grau de influência \\n(FF/m, índice RQD e RMR ponderado), tendo como subsequente a quantidade de fraturas esparsas \\napresentando grau um pouco mais baixo de influência. Além disso pode-se definir variáveis que \\nisoladamente tem elevada correlação com os fenômenos de instabilidade geomecânicos e demonstra \\nque as classificações geomecânicas estão apresentando boa performance.  \\n \\nPALAVRAS-CHAVE: AngloGold Ashanti, Mina Cuiabá, Mecânica de Rocha, Teste de hipóteses, \\nTestes t e f, Grau de influência. \\n \\nSBMR 2016 '"
            ]
          },
          "metadata": {
            "tags": []
          },
          "execution_count": 10
        }
      ]
    },
    {
      "cell_type": "markdown",
      "metadata": {
        "id": "q8HE4ooOjjde"
      },
      "source": [
        "##Primeiro Autor\n",
        "\n",
        "* Marcações\n",
        "\n",
        "Analisando as quebras de linha podemos verificar que o nome do autor está localizado após a segunda marcação que possui duas quebras de linhas seguidas \"*\\n \\n*\".\n",
        "\n",
        "Além disso, o nome do autor termina quando aparece a próxima marcação \"*\\n*\"\n",
        "\n",
        "\n",
        "* Função *index*\n",
        "\n",
        "Para poder descobrir em qual posição um caractere ou sequência de caracteres ocorre em uma string podemos utilizar a função *index.*\n",
        "\n",
        "* Função *len*\n",
        "\n",
        "Para poder encontrar a posição do próximo caractere ou sequência de caracteres podemos fazer isso passando um segundo parâmetro ao método str.index(), que começará em um número de índice em particular.\n",
        "\n",
        "Assim, ao invés de começar no início da string vamos começar após os caracteres da marcação anterior.\n",
        "\n",
        "A função *len* é utilizada para fazer a contagem de caracteres.\n",
        "\n",
        "Após realizar a contagem vamos acrescentar a quantidade de caracteres a marcação anterior."
      ]
    },
    {
      "cell_type": "code",
      "metadata": {
        "id": "ACsnTm1T1d_n",
        "colab": {
          "base_uri": "https://localhost:8080/"
        },
        "outputId": "c63bb67c-2de5-4eaf-d200-4650fd991718"
      },
      "source": [
        "# verificando em que índice começa e termina o nome do primeiro autor\n",
        "\n",
        "primeira_marcacao = texto.index(\"\\n \\n\")\n",
        "segunda_marcacao = texto.index(\"\\n \\n\",primeira_marcacao+len(\"\\n \\n\"))\n",
        "terceira_marcacao = texto.index(\"\\n\",segunda_marcacao+len(\"\\n \\n\"))\n",
        "\n",
        "print(\"A primeira marcação está localizada no índice: \", primeira_marcacao)\n",
        "print(\"A segunda marcação está localizada no índice: \", segunda_marcacao)\n",
        "print(\"A terceira marcação está localizada no índice: \", terceira_marcacao)"
      ],
      "execution_count": 11,
      "outputs": [
        {
          "output_type": "stream",
          "text": [
            "A primeira marcação está localizada no índice:  241\n",
            "A segunda marcação está localizada no índice:  402\n",
            "A terceira marcação está localizada no índice:  436\n"
          ],
          "name": "stdout"
        }
      ]
    },
    {
      "cell_type": "markdown",
      "metadata": {
        "id": "J26SSRJ0m9Mo"
      },
      "source": [
        "Sabendo onde está localizado o nome do autor podemos utilizar a variável **primeiro_autor** para destacar o nome\n",
        "\n",
        "Vamos utilizar a função \"*replace*\" para remover a quebra de linha e a função \"*strip*\" para remover o espaço em branco que aparece junto do nome do autor\n"
      ]
    },
    {
      "cell_type": "code",
      "metadata": {
        "id": "g6tOpTjX725J",
        "colab": {
          "base_uri": "https://localhost:8080/",
          "height": 35
        },
        "outputId": "8296100a-927e-4ca2-ad6e-cabb2fda4320"
      },
      "source": [
        "# extraindo somente o nome do primeiro autor\n",
        "primeiro_autor = texto[segunda_marcacao:terceira_marcacao].replace(\"\\n\",\"\").strip()\n",
        "\n",
        "primeiro_autor"
      ],
      "execution_count": 12,
      "outputs": [
        {
          "output_type": "execute_result",
          "data": {
            "application/vnd.google.colaboratory.intrinsic+json": {
              "type": "string"
            },
            "text/plain": [
              "'Almir Donizette Vicente Gouvêa'"
            ]
          },
          "metadata": {
            "tags": []
          },
          "execution_count": 12
        }
      ]
    },
    {
      "cell_type": "markdown",
      "metadata": {
        "id": "N6Ra7aUsnoD3"
      },
      "source": [
        "## Resumo\n",
        "\n",
        "Após obter o nome do primeiro autor vamos obter o índice do *resumo* que está localizado entre o Resumo e as Palavras-chave.\n",
        "\n",
        "Para poder descobrir em qual posição está localizada a sequência de caracteres vamos utilizar a função *index*"
      ]
    },
    {
      "cell_type": "code",
      "metadata": {
        "id": "x0wP8ATZQImf",
        "colab": {
          "base_uri": "https://localhost:8080/"
        },
        "outputId": "5dadf685-4440-4b93-ba0c-260a099dcb20"
      },
      "source": [
        "# verificando em que índice começa e termina o Resumo\n",
        "inicio_resumo = texto.index(\"RESUMO\")\n",
        "fim_resumo = texto.index(\"PALAVRAS-CHAVE\")\n",
        "\n",
        "print(\"O resumo começa no índice: \", inicio_resumo)\n",
        "print(\"O resumo termina no índice: \", fim_resumo)"
      ],
      "execution_count": 13,
      "outputs": [
        {
          "output_type": "stream",
          "text": [
            "O resumo começa no índice:  727\n",
            "O resumo termina no índice:  3524\n"
          ],
          "name": "stdout"
        }
      ]
    },
    {
      "cell_type": "markdown",
      "metadata": {
        "id": "3LPx0a7VoTCL"
      },
      "source": [
        "Agora vamos utilizar a variável *resumo* para poder obter o resumo\n",
        "\n",
        "Vamos utilizar a função \"replace\" para remover a quebra de linha"
      ]
    },
    {
      "cell_type": "code",
      "metadata": {
        "id": "tH5sa0kgRPKX",
        "colab": {
          "base_uri": "https://localhost:8080/",
          "height": 324
        },
        "outputId": "67cede7d-9da7-4d08-f88f-d6b77929f21c"
      },
      "source": [
        "# extraindo somente o resumo\n",
        "resumo = texto[inicio_resumo:fim_resumo].replace(\"\\n\",\"\")\n",
        "resumo"
      ],
      "execution_count": 14,
      "outputs": [
        {
          "output_type": "execute_result",
          "data": {
            "application/vnd.google.colaboratory.intrinsic+json": {
              "type": "string"
            },
            "text/plain": [
              "'RESUMO: A mina Cuiabá da AngloGold Ashanti Córrego do Sítio Mineração Ltda. considerada uma das mais importantes minas subterrâneas de ouro do Brasil, com escavações a mais de 1.200 metros de profundidade utiliza os métodos de lavra de corte e enchimento e o de realce em sub-níveis.  Ao  longo  dos  anos  diversos  problemas  de  instabilidades  como  quebra  mecânica (“breakout”) e capelamento (“buckling”) surgiram nas rampas de acesso dos corpos minerais da mina, sendo que atualmente os corpos de minério lavrados são: “Serrotinho”, “Fonte Grande Sul”, “Balancão” e “Galinheiro”. Para poder analisar a ocorrência desses fenômenos, nesse trabalho foram realizadas análises estatísticas diversas, aplicadas à Mecânica de Rochas, para correlacionar a variabilidade dos parâmetros geológicos, geométricos e de projeto em engenharia, considerando as seguintes características: o azimute do mergulho da foliação principal, o mergulho da foliação principal, a quantidade de foliações por seção, a quantidade de fraturas sistemáticas por seção, a quantidade de fraturas esparsas por seção, os parâmetros da classificação do sistema RMR, os parâmetros da classificação do sistema Q, as dimensões da escavação, a deformação da seção, a ocorrência ou não de “breakout” por seção, a ocorrência ou não de “buckling” por seção e a profundidade. Entre as análises estatísticas realizadas, considerou-se a hipótese de ocorrência de “breakout”,  “buckling”  e  ruptura  (“breakout”  e  ou  “buckling”),  analisou-se  os  intervalos  de confiança, podendo assim definir se a variável segrega a situação (disjunto) ou se não segrega (sobreposto), assim como realizaram-se os testes t e f, podendo assim definir o grau de influência de cada parâmetro em quatro níveis, sendo que quanto mais elevado é o grau maior é a influência que o parâmetro apresenta para a ocorrência do evento. Com isso verificou-se quais são as variáveis de controle  na  ocorrência  de  cada  fenômeno  (“breakout”,  “buckling”  e  ruptura),  definiu-se  quais variáveis que podem ser utilizadas na previsão de outros pontos que podem apresentar problemas geomecânicos, além disso, foi possível perceber que os parâmetros que tem a maior influência na ocorrência  desses  problemas  de  instabilidade,  na  mesma  intensidade,  são  os  níveis  de  tensão estimados, segundo a profundidade, seguido por três parâmetros com o mesmo grau de influência (FF/m, índice RQD e RMR ponderado), tendo como subsequente a quantidade de fraturas esparsas apresentando grau um pouco mais baixo de influência. Além disso pode-se definir variáveis que isoladamente tem elevada correlação com os fenômenos de instabilidade geomecânicos e demonstra que as classificações geomecânicas estão apresentando boa performance.   '"
            ]
          },
          "metadata": {
            "tags": []
          },
          "execution_count": 14
        }
      ]
    },
    {
      "cell_type": "markdown",
      "metadata": {
        "id": "_k837HP-t1K6"
      },
      "source": [
        "#Automatizando a coleta de resumos"
      ]
    },
    {
      "cell_type": "code",
      "metadata": {
        "id": "00BYvrnBkFQZ",
        "colab": {
          "base_uri": "https://localhost:8080/"
        },
        "outputId": "7d587ea6-1a59-435d-e78b-c907d34a7529"
      },
      "source": [
        "for item in arquivo:\n",
        "  artigo = pdfplumber.open(item)\n",
        "  pagina = artigo.pages[0]\n",
        "  texto = pagina.extract_text()\n",
        "  inicio_resumo = texto.index(\"RESUMO\")\n",
        "  fim_resumo = texto.index(\"PALAVRAS-CHAVE\")\n",
        "  resumo = texto[inicio_resumo:fim_resumo].replace(\"\\n\",\"\")\n",
        "  primeira_marcacao = texto.index(\"\\n \\n\")\n",
        "  segunda_marcacao = texto.index(\"\\n \\n\",primeira_marcacao+len(\"\\n \\n\"))\n",
        "  terceira_marcacao = texto.index(\"\\n\",segunda_marcacao+len(\"\\n \\n\"))\n",
        "  primeiro_autor = texto[segunda_marcacao:terceira_marcacao].replace(\"\\n\",\"\").strip()\n",
        "  print(\"\\n O nome do artigo é: \", item)\n",
        "  print(\"\\n O primeiro autor é: \", primeiro_autor)\n",
        "  print(\"\\n\", resumo, \"\\n\\n\")\n"
      ],
      "execution_count": 15,
      "outputs": [
        {
          "output_type": "stream",
          "text": [
            "\n",
            " O nome do artigo é:  SBMR-06-0047.PDF\n",
            "\n",
            " O primeiro autor é:  Tatiana Soares Noce\n",
            "\n",
            " RESUMO: Segundo a legislação ambiental brasileira, as cavidades naturais subterrâneas, bem como sua área de influência, não podem sofrer impactos negativos irreversíveis até que se realizem estudos específicos de relevância e medidas compensatórias. Na ausência de estudos específicos para a determinação dessa área de influência, estipulou-se toda a área inserida em um raio de        250m  a  partir  da  projeção  horizontal  da  cavidade.  Esse  valor  pode  ser  exagerado  ou  mesmo insuficiente para a preservação das cavernas. Um dos parâmetros que deve ser analisado para a definição da real área de influência é a integridade física, que está associada à fragilidade geotécnica perante os níveis de vibração e deslocamento sofrido pelo maciço rochoso. Quando se tratam de cavidades em formações ferríferas, as áreas de influência podem encampar reservas minerais. Esse estudo trata dos principais aspectos geotécnicos observados em cavidades naturais inseridas nesse contexto. Para isso, foi realizada uma caracterização das principais estruturas geológicas presentes em duas cavidades situadas na Serra de Antônio Pereira, na região conhecida como “Gogo” de propriedade  da  Vale  S/A,  município  de  Mariana-MG.  Tal  estudo  pode  ajudar  a  direcionar monitoramentos geotécnicos e estudos mais detalhados que, consequentemente, contribuirão para o estabelecimento de critérios técnicos para a definição da área de influência de cada cavidade. É possível observar uma alta fragilidade geotécnica nesses ambientes, comumente compostos por rochas  muito  alteradas,  com  baixa  resistência  a  compressão  uniaxial  e  alta  possibilidade  de ocorrência de mecanismos de ruptura. Essa alta fragilidade, muitas vezes está associada ao próprio processo de espeleogênese das galerias, sendo as zonas mais frágeis coincidentes com zonas de contato ou locais com movimentação de água e sedimentos.   \n",
            "\n",
            "\n",
            "\n",
            " O nome do artigo é:  SBMR-06-0043.PDF\n",
            "\n",
            " O primeiro autor é:  Gustavo Pagliari Valerio dos Santos\n",
            "\n",
            " RESUMO: Este trabalho de graduação apresenta um estudo do comportamento da fibra de vidro quanto a sua aplicação como elemento de reforço no sistema de contenção de maciços terrosos na forma de vergalhões, bem como apresenta uma comparação com relação ao aço para a mesma aplicação. O estudo foi concebido a partir de resultados de ensaios de ruptura à tração realizados com vergalhões de fibra de vidro e de aço, bem como o desenvolvimento de um estudo estatístico aprofundado com o intuito de aumentar a precisão dos resultados, além de obter informações mais refinadas a respeito das condições reais de diferenciação a serem consideradas no dimensionamento de  ambos  os  materiais,  de  modo  a  viabilizar  uma  determinação  mais  concisa  das  vantagens apresentadas de um material com relação ao outro quanto a sua resistência à tração. Seria possível realizar o estudo estatístico por meio do padrão Normal (curva de Gauss), o qual considera os valores  da  média  e  do  desvio  padrão  obtidos  como  sendo  os  valores  globais  para  ambos  os materiais. Contudo, devido ao número reduzido de corpos de prova disponível para realização dos ensaios, considerou-se o padrão t-Student para análise comparativa entre os dois grupos. Por este, toma-se como base a média e o desvio padrão dos resultados obtidos para as amostras para se comparar a resistência à tração média de ambos os materiais globalmente. Os ensaios realizados com o objetivo de comparar os dois materiais, bem como o estudo estatístico proposto perante os resultados,  permitiram  afirmar  que,  em  média,  os  vergalhões  de  fibra  de  vidro  apresentam resistência à tração na ruptura com superioridade estatisticamente significativa em relação aos vergalhões de aço. Tal afirmação é assegurada pelos resultados obtidos para a variável p-value, a qual apresentou valores dentro do nível de significância.      \n",
            "\n",
            "\n",
            "\n",
            " O nome do artigo é:  SBMR-06-0045.PDF\n",
            "\n",
            " O primeiro autor é:  Alexandre Assunção Gontijo, MSc\n",
            "\n",
            " RESUMO:  Nos  últimos  anos  houve  um  grande  aumento  no  número  de  cavidades  naturais cadastradas em formações ferríferas no Brasil. Esse fato vem sendo associado às mudanças recentes nas  regras  jurídicas  voltadas  ao  licenciamento  ambiental  de  empreendimentos  em  áreas  com potencial  espeleológico.  Com  as  novas  mudanças  na  legislação  foi  possivel,  nestas  regiões, direcionar esforços para a prospecção espeleológica, estudos de relevância e estudos específicos visando a proteção do patrimônio espeleólogico. Grande parte das cavidades, juntamente com suas respectivas  áreas  de  influência,  não  podem  sofrer  inpactos  irreverssíveis  e  posssuem  sua preservação garantida pela legislação vigente. Isso, aliado ao fato que o processo espeleogenético é semelhante ao processo de concentração mineral em ambientes de formações ferriferas, causa o bloqueio  de  recursos  minerais,  além  da  inviabilização  de  obras  de  infraestrutura  vitais  aos empreendimentos mineiros. Atualmente existem diversos estudos, desenvolvidos pela iniciativa privada e pública, que buscam avaliar e monitorar os impactos físicos que os empreendimentos podem  causar  nas  cavidades  e  suas  áreas  de  influência.  A  realização  de  um  monitoramento geotécnico em ambientes subterrâneos não se trata apenas da seleção de instrumentos e sim de um processo  de  engenharia  abrangente,  com  premissas  básicas  que  devem  ser  seguidas,  além  de análises específicas para optimização do projeto de monitoramento. Este trabalho busca apresentar as considerações e detalhes da instrumentação geotécnica contínua da cavidade natural CAI-03, inserida  em  um  ambiente  de  formações  ferríferas,  localizada  no  empreendimento  da  Anglo American, em Conceição do Mato Dentro-MG.   \n",
            "\n",
            "\n",
            "\n",
            " O nome do artigo é:  SBMR-06-0048.pdf\n",
            "\n",
            " O primeiro autor é:  Almir Donizette Vicente Gouvêa\n",
            "\n",
            " RESUMO: A mina Cuiabá da AngloGold Ashanti Córrego do Sítio Mineração Ltda. considerada uma das mais importantes minas subterrâneas de ouro do Brasil, com escavações a mais de 1.200 metros de profundidade utiliza os métodos de lavra de corte e enchimento e o de realce em sub-níveis.  Ao  longo  dos  anos  diversos  problemas  de  instabilidades  como  quebra  mecânica (“breakout”) e capelamento (“buckling”) surgiram nas rampas de acesso dos corpos minerais da mina, sendo que atualmente os corpos de minério lavrados são: “Serrotinho”, “Fonte Grande Sul”, “Balancão” e “Galinheiro”. Para poder analisar a ocorrência desses fenômenos, nesse trabalho foram realizadas análises estatísticas diversas, aplicadas à Mecânica de Rochas, para correlacionar a variabilidade dos parâmetros geológicos, geométricos e de projeto em engenharia, considerando as seguintes características: o azimute do mergulho da foliação principal, o mergulho da foliação principal, a quantidade de foliações por seção, a quantidade de fraturas sistemáticas por seção, a quantidade de fraturas esparsas por seção, os parâmetros da classificação do sistema RMR, os parâmetros da classificação do sistema Q, as dimensões da escavação, a deformação da seção, a ocorrência ou não de “breakout” por seção, a ocorrência ou não de “buckling” por seção e a profundidade. Entre as análises estatísticas realizadas, considerou-se a hipótese de ocorrência de “breakout”,  “buckling”  e  ruptura  (“breakout”  e  ou  “buckling”),  analisou-se  os  intervalos  de confiança, podendo assim definir se a variável segrega a situação (disjunto) ou se não segrega (sobreposto), assim como realizaram-se os testes t e f, podendo assim definir o grau de influência de cada parâmetro em quatro níveis, sendo que quanto mais elevado é o grau maior é a influência que o parâmetro apresenta para a ocorrência do evento. Com isso verificou-se quais são as variáveis de controle  na  ocorrência  de  cada  fenômeno  (“breakout”,  “buckling”  e  ruptura),  definiu-se  quais variáveis que podem ser utilizadas na previsão de outros pontos que podem apresentar problemas geomecânicos, além disso, foi possível perceber que os parâmetros que tem a maior influência na ocorrência  desses  problemas  de  instabilidade,  na  mesma  intensidade,  são  os  níveis  de  tensão estimados, segundo a profundidade, seguido por três parâmetros com o mesmo grau de influência (FF/m, índice RQD e RMR ponderado), tendo como subsequente a quantidade de fraturas esparsas apresentando grau um pouco mais baixo de influência. Além disso pode-se definir variáveis que isoladamente tem elevada correlação com os fenômenos de instabilidade geomecânicos e demonstra que as classificações geomecânicas estão apresentando boa performance.    \n",
            "\n",
            "\n"
          ],
          "name": "stdout"
        }
      ]
    }
  ]
}